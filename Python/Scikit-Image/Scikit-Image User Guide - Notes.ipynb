{
 "cells": [
  {
   "cell_type": "markdown",
   "metadata": {},
   "source": [
    "# <center>Scikit-Image User Guide - Notes </center>"
   ]
  },
  {
   "cell_type": "markdown",
   "metadata": {},
   "source": [
    "User Guide: http://scikit-image.org/docs/dev/user_guide.html\n",
    "\n",
    "API Reference, which contains information about all modules and their functions: http://scikit-image.org/docs/stable/api/api.html"
   ]
  },
  {
   "cell_type": "markdown",
   "metadata": {},
   "source": [
    "## Getting Started\n",
    "\n",
    "scikit-image is an image processing package in Python that works with nupy arrays."
   ]
  },
  {
   "cell_type": "code",
   "execution_count": 1,
   "metadata": {},
   "outputs": [
    {
     "name": "stdout",
     "output_type": "stream",
     "text": [
      "[[ 47 123 133 ...  14   3  12]\n",
      " [ 93 144 145 ...  12   7   7]\n",
      " [126 147 143 ...   2  13   3]\n",
      " ...\n",
      " [ 81  79  74 ...   6   4   7]\n",
      " [ 88  82  74 ...   5   7   8]\n",
      " [ 91  79  68 ...   4  10   7]]\n"
     ]
    }
   ],
   "source": [
    "import skimage\n",
    "\n",
    "# The data module contains a lot of image data, camera is one of those.\n",
    "from skimage import data\n",
    "\n",
    "camera = data.camera()\n",
    "type(camera)    # Note that the data is a numpy 2D array\n",
    "camera.shape\n",
    "\n",
    "coins = data.coins()\n",
    "print(coins)"
   ]
  }
 ],
 "metadata": {
  "kernelspec": {
   "display_name": "Python 3",
   "language": "python",
   "name": "python3"
  },
  "language_info": {
   "codemirror_mode": {
    "name": "ipython",
    "version": 3
   },
   "file_extension": ".py",
   "mimetype": "text/x-python",
   "name": "python",
   "nbconvert_exporter": "python",
   "pygments_lexer": "ipython3",
   "version": "3.6.3"
  }
 },
 "nbformat": 4,
 "nbformat_minor": 2
}
